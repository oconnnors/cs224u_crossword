{
 "cells": [
  {
   "cell_type": "markdown",
   "metadata": {},
   "source": [
    "# Cleaning and Aggregating Reversal Clues\n",
    "- We are drawing reversal indicators from [RDeits cryptic crosswords](https://github.com/rdeits/CrypticCrosswords.jl/corpora/indicators)\n",
    "- We are using data from [Cryptonite](https://github.com/aviaefrat/cryptonite)\n",
    "- Data from [Rozner et al paper](https://github.com/jsrozner/decrypt)"
   ]
  },
  {
   "cell_type": "code",
   "execution_count": 3,
   "metadata": {},
   "outputs": [],
   "source": [
    "import os\n",
    "import json\n",
    "cur_dir = \"/Users/dom/Desktop/CS224u/newfinal\""
   ]
  },
  {
   "cell_type": "code",
   "execution_count": 4,
   "metadata": {},
   "outputs": [],
   "source": [
    "def loadEzData(pathToEzData,providedContainer=None):\n",
    "    container = []\n",
    "    if (providedContainer != None):\n",
    "        container = providedContainer\n",
    "    curFile = open(pathToEzData, 'r')\n",
    "    curData = curFile.readlines()\n",
    "    for datum in curData:\n",
    "        container.append(datum.strip())\n",
    "    return container"
   ]
  },
  {
   "cell_type": "code",
   "execution_count": 5,
   "metadata": {},
   "outputs": [],
   "source": [
    "def checkIfReversal2(trimmedEntry):\n",
    "    clue = trimmedEntry[\"clue\"]\n",
    "    revAnswer = trimmedEntry[\"answer\"][::-1]\n",
    "    return revAnswer in clue"
   ]
  },
  {
   "cell_type": "code",
   "execution_count": 6,
   "metadata": {},
   "outputs": [],
   "source": [
    "def outputData(data,outputName):\n",
    "    foutName = os.path.join(cur_dir, \"revClues_\" + outputName)\n",
    "    fout = open(foutName, 'w')\n",
    "    for datum in data:\n",
    "        fout.writelines(str(datum)+'\\n')\n",
    "    fout.close()"
   ]
  },
  {
   "cell_type": "code",
   "execution_count": 14,
   "metadata": {},
   "outputs": [],
   "source": [
    "def processCryptonite(pathToData, outputName):\n",
    "    data = []\n",
    "    with open(pathToData) as f:\n",
    "        #for i in range(10000):\n",
    "        lines = f.readlines()\n",
    "        for line in lines:\n",
    "            curline = json.loads(line)\n",
    "            trimmedEntry = {\n",
    "                \"clue\":curline[\"clue\"],\n",
    "                \"answer\":curline[\"answer\"],\n",
    "            }\n",
    "            if (checkIfReversal2(trimmedEntry)):\n",
    "                #and checkIfReversal(trimmedEntry,reversal_indicators, verbose=True)):\n",
    "                data.append(trimmedEntry)\n",
    "    print(\"Processed: \", len(data), \" data points\")\n",
    "\n",
    "    fout = open(os.path.join(cur_dir, outputName), 'w')\n",
    "    for datum in data:\n",
    "        fout.writelines(str(datum)+'\\n')\n",
    "    fout.close()\n",
    "\n",
    "def processRozner(pathToData, outputName, outputting=True):\n",
    "    data = []\n",
    "    with open(pathToData) as f:\n",
    "        allData = json.loads(f.readline())\n",
    "        print(type(allData))\n",
    "        if (type(allData) == type(data)):\n",
    "            i = 0\n",
    "            for curDatum in allData:\n",
    "                trimmedEntry = {\n",
    "                    \"clue\":curDatum[\"clue\"],\n",
    "                    \"answer\":curDatum[\"soln\"],\n",
    "                    }\n",
    "                if (checkIfReversal2(trimmedEntry)):\n",
    "                    #and checkIfReversal(trimmedEntry,reversal_indicators, verbose=True)):\n",
    "                    data.append(trimmedEntry)\n",
    "        else:\n",
    "            Exception(\"Train and not train breakout\")\n",
    "    print(\"Processed: \", len(data), \" data points\")\n",
    "\n",
    "    if outputting:\n",
    "        outputData(data, outputName)\n",
    "        return\n",
    "    else:\n",
    "        return data"
   ]
  },
  {
   "cell_type": "code",
   "execution_count": 15,
   "metadata": {},
   "outputs": [],
   "source": [
    "pathToIndcs = \"/Users/dom/Desktop/CS224u/newfinal/indicators/Reversal\"\n",
    "\n",
    "cryptonie_test_path = \"/Users/dom/Desktop/CS224u/newfinal/cryptonite-official-split/cryptonite-test.jsonl\"\n",
    "cryptonitet_train_path = \"/Users/dom/Desktop/CS224u/newfinal/cryptonite-official-split/cryptonite-train.jsonl\"\n",
    "cryptonite_validation_path = \"/Users/dom/Desktop/CS224u/newfinal/cryptonite-official-split/cryptonite-val.jsonl\"\n",
    "rozner_acw_data_train_path=\"/Users/dom/Desktop/CS224u/cs224u_crossword/decrypt-main/data/clue_json/curricular/ACW_data/train.json\"\n",
    "rozner_wordinitdisjoint_train_path = \"/Users/dom/Desktop/CS224u/cs224u_crossword/decrypt-main/data/clue_json/guardian/word_init_disjoint/train.json\"\n",
    "rozner_guardian_path = \"/Users/dom/Desktop/CS224u/cs224u_crossword/decrypt-main/data/guardian_2020_10_08.json\"\n",
    "rozner_naiverand_path = \"/Users/dom/Desktop/CS224u/cs224u_crossword/decrypt-main/data/naive_random.json\""
   ]
  },
  {
   "cell_type": "code",
   "execution_count": 19,
   "metadata": {},
   "outputs": [
    {
     "name": "stdout",
     "output_type": "stream",
     "text": [
      "<class 'dict'>\n",
      "Processed:  0  data points\n"
     ]
    }
   ],
   "source": [
    "curFilePath = rozner_naiverand_path\n",
    "curOutputFileName = \"rozner_naiveRand\"\n",
    "data = processRozner(curFilePath, curOutputFileName, outputting=True)\n"
   ]
  },
  {
   "cell_type": "code",
   "execution_count": 17,
   "metadata": {},
   "outputs": [
    {
     "ename": "TypeError",
     "evalue": "'NoneType' object is not iterable",
     "output_type": "error",
     "traceback": [
      "\u001b[0;31m---------------------------------------------------------------------------\u001b[0m",
      "\u001b[0;31mTypeError\u001b[0m                                 Traceback (most recent call last)",
      "\u001b[1;32m/Users/dom/Desktop/CS224u/cs224u_crossword/make_testset.ipynb Cell 9'\u001b[0m in \u001b[0;36m<cell line: 1>\u001b[0;34m()\u001b[0m\n\u001b[0;32m----> <a href='vscode-notebook-cell:/Users/dom/Desktop/CS224u/cs224u_crossword/make_testset.ipynb#ch0000008?line=0'>1</a>\u001b[0m outputData(data, curOutputFileName)\n",
      "\u001b[1;32m/Users/dom/Desktop/CS224u/cs224u_crossword/make_testset.ipynb Cell 5'\u001b[0m in \u001b[0;36moutputData\u001b[0;34m(data, outputName)\u001b[0m\n\u001b[1;32m      <a href='vscode-notebook-cell:/Users/dom/Desktop/CS224u/cs224u_crossword/make_testset.ipynb#ch0000004?line=1'>2</a>\u001b[0m foutName \u001b[39m=\u001b[39m os\u001b[39m.\u001b[39mpath\u001b[39m.\u001b[39mjoin(cur_dir, \u001b[39m\"\u001b[39m\u001b[39mrevClues_\u001b[39m\u001b[39m\"\u001b[39m \u001b[39m+\u001b[39m outputName)\n\u001b[1;32m      <a href='vscode-notebook-cell:/Users/dom/Desktop/CS224u/cs224u_crossword/make_testset.ipynb#ch0000004?line=2'>3</a>\u001b[0m fout \u001b[39m=\u001b[39m \u001b[39mopen\u001b[39m(foutName, \u001b[39m'\u001b[39m\u001b[39mw\u001b[39m\u001b[39m'\u001b[39m)\n\u001b[0;32m----> <a href='vscode-notebook-cell:/Users/dom/Desktop/CS224u/cs224u_crossword/make_testset.ipynb#ch0000004?line=3'>4</a>\u001b[0m \u001b[39mfor\u001b[39;00m datum \u001b[39min\u001b[39;00m data:\n\u001b[1;32m      <a href='vscode-notebook-cell:/Users/dom/Desktop/CS224u/cs224u_crossword/make_testset.ipynb#ch0000004?line=4'>5</a>\u001b[0m     fout\u001b[39m.\u001b[39mwritelines(\u001b[39mstr\u001b[39m(datum)\u001b[39m+\u001b[39m\u001b[39m'\u001b[39m\u001b[39m\\n\u001b[39;00m\u001b[39m'\u001b[39m)\n\u001b[1;32m      <a href='vscode-notebook-cell:/Users/dom/Desktop/CS224u/cs224u_crossword/make_testset.ipynb#ch0000004?line=5'>6</a>\u001b[0m fout\u001b[39m.\u001b[39mclose()\n",
      "\u001b[0;31mTypeError\u001b[0m: 'NoneType' object is not iterable"
     ]
    }
   ],
   "source": [
    "if (data != None):\n",
    "    outputData(data, curOutputFileName)"
   ]
  },
  {
   "cell_type": "markdown",
   "metadata": {},
   "source": [
    "# Aggregate all of the data into one megaset"
   ]
  },
  {
   "cell_type": "code",
   "execution_count": 20,
   "metadata": {},
   "outputs": [
    {
     "name": "stdout",
     "output_type": "stream",
     "text": [
      "1402\n"
     ]
    }
   ],
   "source": [
    "subsets = [\n",
    "    \"/Users/dom/Desktop/CS224u/newfinal/revClues_rozner_wordinitdisjoint_train\",\n",
    "    \"/Users/dom/Desktop/CS224u/newfinal/revClues_roznerACW_train\",\n",
    "    \"/Users/dom/Desktop/CS224u/newfinal/revClues_val_noIndcs\",\n",
    "    \"/Users/dom/Desktop/CS224u/newfinal/revClues_rozner_guardian\",\n",
    "]\n",
    "\n",
    "aggregatedData = []\n",
    "for curFile in subsets:\n",
    "    loadEzData(curFile, providedContainer=aggregatedData)\n",
    "print(len(aggregatedData))\n"
   ]
  },
  {
   "cell_type": "code",
   "execution_count": 21,
   "metadata": {},
   "outputs": [],
   "source": [
    "outputData(aggregatedData, \"aggregated_1\")"
   ]
  }
 ],
 "metadata": {
  "interpreter": {
   "hash": "801dc401bfe477544045a8dc83d63efd6a32868ac2a652a4fbe6d30f82d2d95a"
  },
  "kernelspec": {
   "display_name": "Python 3.9.13 ('224ufinal')",
   "language": "python",
   "name": "python3"
  },
  "language_info": {
   "codemirror_mode": {
    "name": "ipython",
    "version": 3
   },
   "file_extension": ".py",
   "mimetype": "text/x-python",
   "name": "python",
   "nbconvert_exporter": "python",
   "pygments_lexer": "ipython3",
   "version": "3.9.13"
  },
  "orig_nbformat": 4
 },
 "nbformat": 4,
 "nbformat_minor": 2
}
