{
 "cells": [
  {
   "cell_type": "markdown",
   "metadata": {},
   "source": [
    "# Cleaning and Aggregating Reversal Clues\n",
    "- We are drawing reversal indicators from [RDeits cryptic crosswords](https://github.com/rdeits/CrypticCrosswords.jl/corpora/indicators)\n",
    "- We are using data from [Cryptonite](https://github.com/aviaefrat/cryptonite)\n",
    "- Data from [Rozner et al paper](https://github.com/jsrozner/decrypt)"
   ]
  },
  {
   "cell_type": "code",
   "execution_count": 9,
   "metadata": {},
   "outputs": [],
   "source": [
    "import os\n",
    "import json\n",
    "cur_dir = \"/Users/dom/Desktop/CS224u/newfinal\""
   ]
  },
  {
   "cell_type": "code",
   "execution_count": 10,
   "metadata": {},
   "outputs": [],
   "source": [
    "def loadEzData(pathToEzData,providedContainer=None):\n",
    "    container = []\n",
    "    if (providedContainer != None):\n",
    "        container = providedContainer\n",
    "    curFile = open(pathToEzData, 'r')\n",
    "    curData = curFile.readlines()\n",
    "    for datum in curData:\n",
    "        container.append(datum.strip())\n",
    "    return container"
   ]
  },
  {
   "cell_type": "code",
   "execution_count": 11,
   "metadata": {},
   "outputs": [],
   "source": [
    "def checkIfReversal2(trimmedEntry):\n",
    "    clue = trimmedEntry[\"clue\"]\n",
    "    revAnswer = trimmedEntry[\"answer\"][::-1]\n",
    "    return revAnswer in clue"
   ]
  },
  {
   "cell_type": "code",
   "execution_count": 12,
   "metadata": {},
   "outputs": [],
   "source": [
    "def outputData(data,outputName):\n",
    "    foutName = os.path.join(cur_dir, \"revClues_\" + outputName)\n",
    "    fout = open(foutName, 'w')\n",
    "    #fout.write(json.dumps(data))\n",
    "    fout.write('[')\n",
    "    for i in range(len(data)):\n",
    "        fout.write(json.dumps(data[i]))\n",
    "        if (i == len(data)-1):\n",
    "            fout.write(']')\n",
    "        else:\n",
    "            fout.write(',\\n')\n",
    "    \n",
    "    fout.close()"
   ]
  },
  {
   "cell_type": "code",
   "execution_count": 13,
   "metadata": {},
   "outputs": [],
   "source": [
    "def processCryptonite(pathToData, outputName, outputting=True):\n",
    "    data = []\n",
    "    with open(pathToData) as f:\n",
    "        #for i in range(10000):\n",
    "        lines = f.readlines()\n",
    "        for line in lines:\n",
    "            curline = json.loads(line)\n",
    "            trimmedEntry = {\n",
    "                \"clue\":curline[\"clue\"],\n",
    "                \"answer\":curline[\"answer\"],\n",
    "            }\n",
    "            if (checkIfReversal2(trimmedEntry)):\n",
    "                #and checkIfReversal(trimmedEntry,reversal_indicators, verbose=True)):\n",
    "                data.append(trimmedEntry)\n",
    "    print(\"Processed: \", len(data), \" data points\")\n",
    "\n",
    "    if outputting:\n",
    "        outputData(data, outputName)\n",
    "        return\n",
    "    else:\n",
    "        return data\n",
    "\n",
    "def processRozner(pathToData, outputName, outputting=True):\n",
    "    data = []\n",
    "    with open(pathToData) as f:\n",
    "        allData = json.loads(f.readline())\n",
    "        print(type(allData))\n",
    "        if (type(allData) == type(data)):\n",
    "            i = 0\n",
    "            for curDatum in allData:\n",
    "                trimmedEntry = {\n",
    "                    \"clue\":curDatum[\"clue\"],\n",
    "                    \"answer\":curDatum[\"soln\"],\n",
    "                    }\n",
    "                if (checkIfReversal2(trimmedEntry)):\n",
    "                    #and checkIfReversal(trimmedEntry,reversal_indicators, verbose=True)):\n",
    "                    data.append(trimmedEntry)\n",
    "        else:\n",
    "            Exception(\"Train and not train breakout\")\n",
    "    print(\"Processed: \", len(data), \" data points\")\n",
    "\n",
    "    if outputting:\n",
    "        outputData(data, outputName)\n",
    "        return\n",
    "    else:\n",
    "        return data\n",
    "\n",
    "def processRozner2(pathToData, outputName, outputting=True):\n",
    "    data = []\n",
    "    with open(pathToData) as f:\n",
    "        allData = json.loads(f.readline())\n",
    "        print(type(allData))\n",
    "        if (type(allData) == type(data)):\n",
    "            i = 0\n",
    "            for curDatum in allData:\n",
    "                trimmedEntry = {\n",
    "                    \"clue\":curDatum[\"input\"],\n",
    "                    \"answer\":curDatum[\"target\"],\n",
    "                    }\n",
    "                if (checkIfReversal2(trimmedEntry)):\n",
    "                    #and checkIfReversal(trimmedEntry,reversal_indicators, verbose=True)):\n",
    "                    data.append(trimmedEntry)\n",
    "        else:\n",
    "            Exception(\"Train and not train breakout\")\n",
    "    print(\"Processed: \", len(data), \" data points\")\n",
    "\n",
    "    if outputting:\n",
    "        outputData(data, outputName)\n",
    "        return\n",
    "    else:\n",
    "        return data\n",
    "\n",
    "def processRozner3(pathToData, outputName, outputting=True):\n",
    "    data = []\n",
    "    with open(pathToData) as f:\n",
    "        allData = json.loads(f.readline())\n",
    "        if (type(allData) == type(data)):\n",
    "            i = 0\n",
    "            for curDatum in allData:\n",
    "                trimmedEntry = {\n",
    "                    \"clue\":curDatum[\"input\"],\n",
    "                    \"answer\":curDatum[\"target\"],\n",
    "                    }\n",
    "                if (checkIfReversal2(trimmedEntry)):\n",
    "                    #and checkIfReversal(trimmedEntry,reversal_indicators, verbose=True)):\n",
    "                    data.append(trimmedEntry)\n",
    "        else:\n",
    "            Exception(\"Train and not train breakout\")\n",
    "    print(\"Processed: \", len(data), \" data points\")\n",
    "\n",
    "    if outputting:\n",
    "        outputData(data, outputName)\n",
    "        return\n",
    "    else:\n",
    "        return data"
   ]
  },
  {
   "cell_type": "code",
   "execution_count": 14,
   "metadata": {},
   "outputs": [
    {
     "name": "stdout",
     "output_type": "stream",
     "text": [
      "<class 'dict'>\n",
      "Processed:  0  data points\n"
     ]
    }
   ],
   "source": [
    "curData = processRozner2(\"/Users/dom/Desktop/CS224u/cs224u_crossword/decrypt-main/data/naive_random.json\",\"\",outputting=False)"
   ]
  },
  {
   "cell_type": "code",
   "execution_count": 15,
   "metadata": {},
   "outputs": [],
   "source": [
    "pathToIndcs = \"/Users/dom/Desktop/CS224u/newfinal/indicators/Reversal\"\n",
    "\n",
    "cryptonie_test_path = \"/Users/dom/Desktop/CS224u/newfinal/cryptonite-official-split/cryptonite-test.jsonl\"\n",
    "cryptonitet_train_path = \"/Users/dom/Desktop/CS224u/newfinal/cryptonite-official-split/cryptonite-train.jsonl\"\n",
    "cryptonite_validation_path = \"/Users/dom/Desktop/CS224u/newfinal/cryptonite-official-split/cryptonite-val.jsonl\"\n",
    "rozner_acw_data_train_path=\"/Users/dom/Desktop/CS224u/cs224u_crossword/decrypt-main/data/clue_json/curricular/ACW_data/train.json\"\n",
    "rozner_wordinitdisjoint_train_path = \"/Users/dom/Desktop/CS224u/cs224u_crossword/decrypt-main/data/clue_json/guardian/word_init_disjoint/train.json\"\n",
    "rozner_guardian_path = \"/Users/dom/Desktop/CS224u/cs224u_crossword/decrypt-main/data/guardian_2020_10_08.json\"\n",
    "rozner_naiverand_path = \"/Users/dom/Desktop/CS224u/cs224u_crossword/decrypt-main/data/naive_random.json\""
   ]
  },
  {
   "cell_type": "code",
   "execution_count": 17,
   "metadata": {},
   "outputs": [
    {
     "name": "stdout",
     "output_type": "stream",
     "text": [
      "Processed:  29  data points\n",
      "Processed:  23  data points\n",
      "<class 'list'>\n",
      "Processed:  159  data points\n",
      "Processed:  1298  data points\n",
      "Processed:  81  data points\n",
      "Processed:  0  data points\n"
     ]
    }
   ],
   "source": [
    "aggData = []\n",
    "for curCryp in [cryptonie_test_path, cryptonite_validation_path]:\n",
    "    curData = processCryptonite(curCryp, \"\", outputting=False)\n",
    "    for datum in curData:\n",
    "        aggData.append(datum)\n",
    "for curRoz in [rozner_guardian_path]:\n",
    "    curData = processRozner(curRoz, \"\", outputting=False)\n",
    "    for datum in curData:\n",
    "        aggData.append(datum)\n",
    "for curRoz2 in [rozner_acw_data_train_path, rozner_wordinitdisjoint_train_path, rozner_naiverand_path]:\n",
    "    curData = processRozner3(curRoz2,\"\",outputting=False)\n",
    "    for datum in curData:\n",
    "        aggData.append(datum)"
   ]
  },
  {
   "cell_type": "code",
   "execution_count": 25,
   "metadata": {},
   "outputs": [],
   "source": [
    "def jankyOutput(data,outputName):\n",
    "    foutName = os.path.join(cur_dir, \"revClues_\" + outputName)\n",
    "    fout = open(foutName, 'w')\n",
    "    for datum in data:\n",
    "        fout.write(datum[\"clue\"])\n",
    "        fout.write('\\n')\n",
    "        fout.write(datum[\"answer\"])\n",
    "        fout.write('\\n')\n",
    "    fout.close()\n",
    "\n",
    "jankyOutput(aggData,\"jankyAgg\")"
   ]
  },
  {
   "cell_type": "code",
   "execution_count": null,
   "metadata": {},
   "outputs": [],
   "source": [
    "outputData(aggData, \"revClues_aggregated_4\")"
   ]
  },
  {
   "cell_type": "markdown",
   "metadata": {},
   "source": [
    "# Aggregate all of the data into one megaset"
   ]
  },
  {
   "cell_type": "code",
   "execution_count": null,
   "metadata": {},
   "outputs": [
    {
     "name": "stdout",
     "output_type": "stream",
     "text": [
      "1402\n"
     ]
    }
   ],
   "source": [
    "subsets = [\n",
    "    \"/Users/dom/Desktop/CS224u/newfinal/revClues_rozner_wordinitdisjoint_train\",\n",
    "    \"/Users/dom/Desktop/CS224u/newfinal/revClues_roznerACW_train\",\n",
    "    \"/Users/dom/Desktop/CS224u/newfinal/revClues_val_noIndcs\",\n",
    "    \"/Users/dom/Desktop/CS224u/newfinal/revClues_rozner_guardian\",\n",
    "]\n",
    "\n",
    "aggregatedData = []\n",
    "for curFile in subsets:\n",
    "    loadEzData(curFile, providedContainer=aggregatedData)\n",
    "print(len(aggregatedData))\n"
   ]
  },
  {
   "cell_type": "code",
   "execution_count": null,
   "metadata": {},
   "outputs": [
    {
     "ename": "NameError",
     "evalue": "name 'aggData' is not defined",
     "output_type": "error",
     "traceback": [
      "\u001b[0;31m---------------------------------------------------------------------------\u001b[0m",
      "\u001b[0;31mNameError\u001b[0m                                 Traceback (most recent call last)",
      "\u001b[1;32m/Users/dom/Desktop/CS224u/cs224u_crossword/make_testset.ipynb Cell 14'\u001b[0m in \u001b[0;36m<cell line: 1>\u001b[0;34m()\u001b[0m\n\u001b[0;32m----> <a href='vscode-notebook-cell:/Users/dom/Desktop/CS224u/cs224u_crossword/make_testset.ipynb#ch0000013?line=0'>1</a>\u001b[0m \u001b[39mprint\u001b[39m(\u001b[39mlen\u001b[39m(aggData))\n",
      "\u001b[0;31mNameError\u001b[0m: name 'aggData' is not defined"
     ]
    }
   ],
   "source": [
    "print(len(aggData))"
   ]
  },
  {
   "cell_type": "code",
   "execution_count": null,
   "metadata": {},
   "outputs": [
    {
     "name": "stdout",
     "output_type": "stream",
     "text": [
      "only a short reflection from jeremiah (4)\n"
     ]
    }
   ],
   "source": [
    "import json\n",
    "with open(\"/Users/dom/Desktop/CS224u/cs224u_crossword/revClues_aggregated_7\",'r') as fin:\n",
    "    data = json.loads(fin.read())\n",
    "    \n",
    "    print(data[0]['clue'])\n",
    "    "
   ]
  },
  {
   "cell_type": "code",
   "execution_count": null,
   "metadata": {},
   "outputs": [],
   "source": [
    "def evalDataset(filepath):\n",
    "  with open(filepath, 'r') as fin:\n",
    "    evalData = json.loads(fin.read())\n",
    "\n",
    "  input_sequences = [] \n",
    "  output_sequences = []\n",
    "  i = 0\n",
    "  for entry in evalData:\n",
    "      input_sequences.append(entry['clue'])\n",
    "      output_sequences.append(entry['answer'])\n",
    "      i+=1\n",
    "  return input_sequences, output_sequences"
   ]
  },
  {
   "cell_type": "code",
   "execution_count": null,
   "metadata": {},
   "outputs": [],
   "source": [
    "inps, outps = evalDataset(\"/Users/dom/Desktop/CS224u/cs224u_crossword/revClues_aggregated_5\")"
   ]
  },
  {
   "cell_type": "code",
   "execution_count": null,
   "metadata": {},
   "outputs": [],
   "source": [
    "print(inps)"
   ]
  },
  {
   "cell_type": "code",
   "execution_count": null,
   "metadata": {},
   "outputs": [],
   "source": [
    "def data2seq2seq(filepath, cap=-1):\n",
    "  with open(filepath, 'r') as json_file:\n",
    "    json_list = list(json_file)\n",
    "\n",
    "  input_sequences = [] \n",
    "  output_sequences = []\n",
    "  i = 0\n",
    "  for json_str in json_list:\n",
    "      if (cap != -1 and i > cap):\n",
    "        break\n",
    "      result = json.loads(json_str)\n",
    "      input_sequences.append(result['clue'])\n",
    "      output_sequences.append(result['answer'])\n",
    "      #train_dataset = zip(input_sequences, output_sequences)\n",
    "      i+=1\n",
    "  return input_sequences, output_sequences"
   ]
  }
 ],
 "metadata": {
  "interpreter": {
   "hash": "801dc401bfe477544045a8dc83d63efd6a32868ac2a652a4fbe6d30f82d2d95a"
  },
  "kernelspec": {
   "display_name": "Python 3.9.13 ('224ufinal')",
   "language": "python",
   "name": "python3"
  },
  "language_info": {
   "codemirror_mode": {
    "name": "ipython",
    "version": 3
   },
   "file_extension": ".py",
   "mimetype": "text/x-python",
   "name": "python",
   "nbconvert_exporter": "python",
   "pygments_lexer": "ipython3",
   "version": "3.9.13"
  },
  "orig_nbformat": 4
 },
 "nbformat": 4,
 "nbformat_minor": 2
}
