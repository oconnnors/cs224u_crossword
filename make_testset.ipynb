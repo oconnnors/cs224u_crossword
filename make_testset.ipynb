{
 "cells": [
  {
   "cell_type": "markdown",
   "metadata": {},
   "source": [
    "# Cleaning and Aggregating Reversal Clues\n",
    "We are drawing reversal indicators from [RDeits cryptic crosswords](https://github.com/rdeits/CrypticCrosswords.jl/corpora/indicators)\n",
    "We are using data from [Cryptonite](https://github.com/aviaefrat/cryptonite)\n",
    "Data from [Rozner et al paper](https://github.com/jsrozner/decrypt)"
   ]
  },
  {
   "cell_type": "code",
   "execution_count": 2,
   "metadata": {},
   "outputs": [],
   "source": [
    "import os\n",
    "import json\n",
    "cur_dir = \"/Users/dom/Desktop/CS224u/newfinal\""
   ]
  },
  {
   "cell_type": "code",
   "execution_count": 36,
   "metadata": {},
   "outputs": [],
   "source": [
    "def loadEzData(pathToEzData,providedContainer=None):\n",
    "    container = []\n",
    "    if (providedContainer != None):\n",
    "        container = providedContainer\n",
    "    curFile = open(pathToEzData, 'r')\n",
    "    curData = curFile.readlines()\n",
    "    for datum in curData:\n",
    "        container.append(datum.strip())\n",
    "    return container"
   ]
  },
  {
   "cell_type": "code",
   "execution_count": 4,
   "metadata": {},
   "outputs": [],
   "source": [
    "def checkIfReversal2(trimmedEntry):\n",
    "    clue = trimmedEntry[\"clue\"]\n",
    "    revAnswer = trimmedEntry[\"answer\"][::-1]\n",
    "    return revAnswer in clue"
   ]
  },
  {
   "cell_type": "code",
   "execution_count": 31,
   "metadata": {},
   "outputs": [],
   "source": [
    "def outputData(data,outputName):\n",
    "    foutName = os.path.join(cur_dir, \"revClues_\" + outputName)\n",
    "    fout = open(foutName, 'w')\n",
    "    for datum in data:\n",
    "        fout.writelines(str(datum)+'\\n')\n",
    "    fout.close()"
   ]
  },
  {
   "cell_type": "code",
   "execution_count": 30,
   "metadata": {},
   "outputs": [],
   "source": [
    "def processCryptonite(pathToData, outputName):\n",
    "    data = []\n",
    "    with open(pathToData) as f:\n",
    "        #for i in range(10000):\n",
    "        lines = f.readlines()\n",
    "        for line in lines:\n",
    "            curline = json.loads(line)\n",
    "            trimmedEntry = {\n",
    "                \"clue\":curline[\"clue\"],\n",
    "                \"answer\":curline[\"answer\"],\n",
    "            }\n",
    "            if (checkIfReversal2(trimmedEntry)):\n",
    "                #and checkIfReversal(trimmedEntry,reversal_indicators, verbose=True)):\n",
    "                data.append(trimmedEntry)\n",
    "    print(\"Processed: \", len(data), \" data points\")\n",
    "\n",
    "    fout = open(os.path.join(cur_dir, outputName), 'w')\n",
    "    for datum in data:\n",
    "        fout.writelines(str(datum)+'\\n')\n",
    "    fout.close()\n",
    "\n",
    "def processRozner(pathToData, outputName, outputting=True):\n",
    "    data = []\n",
    "    with open(pathToData) as f:\n",
    "        allData = json.loads(f.readline())\n",
    "        print(type(allData))\n",
    "        if (type(allData) == type(data)):\n",
    "            i = 0\n",
    "            for curDatum in allData:\n",
    "                trimmedEntry = {\n",
    "                    \"clue\":curDatum[\"input\"],\n",
    "                    \"answer\":curDatum[\"target\"],\n",
    "                    }\n",
    "                if (checkIfReversal2(trimmedEntry)):\n",
    "                    #and checkIfReversal(trimmedEntry,reversal_indicators, verbose=True)):\n",
    "                    data.append(trimmedEntry)\n",
    "        else:\n",
    "            Exception(\"Train and not train breakout\")\n",
    "    print(\"Processed: \", len(data), \" data points\")\n",
    "\n",
    "    if outputting:\n",
    "        outputData(data, outputName)\n",
    "        return\n",
    "    else:\n",
    "        return data"
   ]
  },
  {
   "cell_type": "code",
   "execution_count": 35,
   "metadata": {},
   "outputs": [],
   "source": [
    "pathToIndcs = \"/Users/dom/Desktop/CS224u/newfinal/indicators/Reversal\"\n",
    "\n",
    "cryptonie_test_path = \"/Users/dom/Desktop/CS224u/newfinal/cryptonite-official-split/cryptonite-test.jsonl\"\n",
    "cryptonitet_train_path = \"/Users/dom/Desktop/CS224u/newfinal/cryptonite-official-split/cryptonite-train.jsonl\"\n",
    "cryptonite_validation_path = \"/Users/dom/Desktop/CS224u/newfinal/cryptonite-official-split/cryptonite-val.jsonl\"\n",
    "rozner_acw_data_train_path=\"/Users/dom/Desktop/CS224u/cs224u_crossword/decrypt-main/data/clue_json/curricular/ACW_data/train.json\"\n",
    "rozner_wordinitdisjoint_train_path = \"/Users/dom/Desktop/CS224u/cs224u_crossword/decrypt-main/data/clue_json/guardian/word_init_disjoint/train.json\""
   ]
  },
  {
   "cell_type": "code",
   "execution_count": 29,
   "metadata": {},
   "outputs": [
    {
     "name": "stdout",
     "output_type": "stream",
     "text": [
      "<class 'list'>\n",
      "Processed:  81  data points\n",
      "{'clue': \"It's a comedown, though some evidence points the other way (4)\", 'answer': 'dive'}\n",
      "{'clue': 'Cross upheld by the secretariat (5)', 'answer': 'irate'}\n",
      "{'clue': 'Crossover door (4)', 'answer': 'rood'}\n",
      "{'clue': 'Due to take bus back (3)', 'answer': 'sub'}\n"
     ]
    }
   ],
   "source": [
    "curFilePath = rozner_wordinitdisjoint_train_path\n",
    "curOutputFileName = \"rozner_wordinitdisjoint_train\"\n",
    "data = processRozner(curFilePath, curOutputFileName, outputting=False)\n",
    "for i in range(4):\n",
    "    print(data[i])"
   ]
  },
  {
   "cell_type": "code",
   "execution_count": 32,
   "metadata": {},
   "outputs": [],
   "source": [
    "outputData(data, curOutputFileName)"
   ]
  },
  {
   "cell_type": "markdown",
   "metadata": {},
   "source": [
    "# Aggregate all of the data into one megaset"
   ]
  },
  {
   "cell_type": "code",
   "execution_count": 37,
   "metadata": {},
   "outputs": [
    {
     "name": "stdout",
     "output_type": "stream",
     "text": [
      "1911\n"
     ]
    }
   ],
   "source": [
    "subsets = [\n",
    "    \"/Users/dom/Desktop/CS224u/newfinal/revClues_rozner_wordinitdisjoint_train\",\n",
    "    \"/Users/dom/Desktop/CS224u/newfinal/revClues_roznerACW_train\",\n",
    "    \"/Users/dom/Desktop/CS224u/newfinal/revClues_Train_noIndcs\",\n",
    "    \"/Users/dom/Desktop/CS224u/newfinal/revClues_val_noIndcs\",\n",
    "]\n",
    "\n",
    "aggregatedData = []\n",
    "for curFile in subsets:\n",
    "    loadEzData(curFile, providedContainer=aggregatedData)\n",
    "print(len(aggregatedData))\n"
   ]
  },
  {
   "cell_type": "code",
   "execution_count": 38,
   "metadata": {},
   "outputs": [],
   "source": [
    "outputData(aggregatedData, \"aggregated_0\")"
   ]
  }
 ],
 "metadata": {
  "interpreter": {
   "hash": "801dc401bfe477544045a8dc83d63efd6a32868ac2a652a4fbe6d30f82d2d95a"
  },
  "kernelspec": {
   "display_name": "Python 3.9.13 ('224ufinal')",
   "language": "python",
   "name": "python3"
  },
  "language_info": {
   "codemirror_mode": {
    "name": "ipython",
    "version": 3
   },
   "file_extension": ".py",
   "mimetype": "text/x-python",
   "name": "python",
   "nbconvert_exporter": "python",
   "pygments_lexer": "ipython3",
   "version": "3.9.13"
  },
  "orig_nbformat": 4
 },
 "nbformat": 4,
 "nbformat_minor": 2
}
