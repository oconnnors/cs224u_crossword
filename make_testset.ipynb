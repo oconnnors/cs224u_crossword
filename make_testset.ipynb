{
 "cells": [
  {
   "cell_type": "markdown",
   "metadata": {},
   "source": [
    "# Cleaning and Aggregating Reversal Clues\n",
    "- We are drawing reversal indicators from [RDeits cryptic crosswords](https://github.com/rdeits/CrypticCrosswords.jl/corpora/indicators)\n",
    "- We are using data from [Cryptonite](https://github.com/aviaefrat/cryptonite)\n",
    "- Data from [Rozner et al paper](https://github.com/jsrozner/decrypt)"
   ]
  },
  {
   "cell_type": "code",
   "execution_count": 40,
   "metadata": {},
   "outputs": [],
   "source": [
    "import os\n",
    "import json\n",
    "cur_dir = \"/Users/dom/Desktop/CS224u/newfinal\""
   ]
  },
  {
   "cell_type": "code",
   "execution_count": 41,
   "metadata": {},
   "outputs": [],
   "source": [
    "def loadEzData(pathToEzData,providedContainer=None):\n",
    "    container = []\n",
    "    if (providedContainer != None):\n",
    "        container = providedContainer\n",
    "    curFile = open(pathToEzData, 'r')\n",
    "    curData = curFile.readlines()\n",
    "    for datum in curData:\n",
    "        container.append(datum.strip())\n",
    "    return container"
   ]
  },
  {
   "cell_type": "code",
   "execution_count": 42,
   "metadata": {},
   "outputs": [],
   "source": [
    "def checkIfReversal2(trimmedEntry):\n",
    "    clue = trimmedEntry[\"clue\"]\n",
    "    revAnswer = trimmedEntry[\"answer\"][::-1]\n",
    "    return revAnswer in clue"
   ]
  },
  {
   "cell_type": "code",
   "execution_count": 43,
   "metadata": {},
   "outputs": [],
   "source": [
    "def outputData(data,outputName):\n",
    "    foutName = os.path.join(cur_dir, \"revClues_\" + outputName)\n",
    "    fout = open(foutName, 'w')\n",
    "    #fout.write(json.dumps(data))\n",
    "    for datum in data:\n",
    "        fout.write(json.dumps(datum))\n",
    "        fout.write('/n')\n",
    "    fout.close()"
   ]
  },
  {
   "cell_type": "code",
   "execution_count": 63,
   "metadata": {},
   "outputs": [],
   "source": [
    "def processCryptonite(pathToData, outputName, outputting=True):\n",
    "    data = []\n",
    "    with open(pathToData) as f:\n",
    "        #for i in range(10000):\n",
    "        lines = f.readlines()\n",
    "        for line in lines:\n",
    "            curline = json.loads(line)\n",
    "            trimmedEntry = {\n",
    "                \"clue\":curline[\"clue\"],\n",
    "                \"answer\":curline[\"answer\"],\n",
    "            }\n",
    "            if (checkIfReversal2(trimmedEntry)):\n",
    "                #and checkIfReversal(trimmedEntry,reversal_indicators, verbose=True)):\n",
    "                data.append(trimmedEntry)\n",
    "    print(\"Processed: \", len(data), \" data points\")\n",
    "\n",
    "    if outputting:\n",
    "        outputData(data, outputName)\n",
    "        return\n",
    "    else:\n",
    "        return data\n",
    "\n",
    "def processRozner(pathToData, outputName, outputting=True):\n",
    "    data = []\n",
    "    with open(pathToData) as f:\n",
    "        allData = json.loads(f.readline())\n",
    "        print(type(allData))\n",
    "        if (type(allData) == type(data)):\n",
    "            i = 0\n",
    "            for curDatum in allData:\n",
    "                trimmedEntry = {\n",
    "                    \"clue\":curDatum[\"clue\"],\n",
    "                    \"answer\":curDatum[\"soln\"],\n",
    "                    }\n",
    "                if (checkIfReversal2(trimmedEntry)):\n",
    "                    #and checkIfReversal(trimmedEntry,reversal_indicators, verbose=True)):\n",
    "                    data.append(trimmedEntry)\n",
    "        else:\n",
    "            Exception(\"Train and not train breakout\")\n",
    "    print(\"Processed: \", len(data), \" data points\")\n",
    "\n",
    "    if outputting:\n",
    "        outputData(data, outputName)\n",
    "        return\n",
    "    else:\n",
    "        return data\n",
    "\n",
    "def processRozner2(pathToData, outputName, outputting=True):\n",
    "    data = []\n",
    "    with open(pathToData) as f:\n",
    "        allData = json.loads(f.readline())\n",
    "        print(type(allData))\n",
    "        if (type(allData) == type(data)):\n",
    "            i = 0\n",
    "            for curDatum in allData:\n",
    "                trimmedEntry = {\n",
    "                    \"clue\":curDatum[\"input\"],\n",
    "                    \"answer\":curDatum[\"target\"],\n",
    "                    }\n",
    "                if (checkIfReversal2(trimmedEntry)):\n",
    "                    #and checkIfReversal(trimmedEntry,reversal_indicators, verbose=True)):\n",
    "                    data.append(trimmedEntry)\n",
    "        else:\n",
    "            Exception(\"Train and not train breakout\")\n",
    "    print(\"Processed: \", len(data), \" data points\")\n",
    "\n",
    "    if outputting:\n",
    "        outputData(data, outputName)\n",
    "        return\n",
    "    else:\n",
    "        return data\n",
    "\n",
    "def processRozner3(pathToData, outputName, outputting=True):\n",
    "    data = []\n",
    "    with open(pathToData) as f:\n",
    "        allData = json.loads(f.readline())\n",
    "        if (type(allData) == type(data)):\n",
    "            i = 0\n",
    "            for curDatum in allData:\n",
    "                trimmedEntry = {\n",
    "                    \"clue\":curDatum[\"input\"],\n",
    "                    \"answer\":curDatum[\"target\"],\n",
    "                    }\n",
    "                if (checkIfReversal2(trimmedEntry)):\n",
    "                    #and checkIfReversal(trimmedEntry,reversal_indicators, verbose=True)):\n",
    "                    data.append(trimmedEntry)\n",
    "        else:\n",
    "            Exception(\"Train and not train breakout\")\n",
    "    print(\"Processed: \", len(data), \" data points\")\n",
    "\n",
    "    if outputting:\n",
    "        outputData(data, outputName)\n",
    "        return\n",
    "    else:\n",
    "        return data"
   ]
  },
  {
   "cell_type": "code",
   "execution_count": 68,
   "metadata": {},
   "outputs": [
    {
     "name": "stdout",
     "output_type": "stream",
     "text": [
      "<class 'dict'>\n",
      "Processed:  0  data points\n"
     ]
    }
   ],
   "source": [
    "curData = processRozner2(\"/Users/dom/Desktop/CS224u/cs224u_crossword/decrypt-main/data/naive_random.json\",\"\",outputting=False)"
   ]
  },
  {
   "cell_type": "code",
   "execution_count": 69,
   "metadata": {},
   "outputs": [],
   "source": [
    "pathToIndcs = \"/Users/dom/Desktop/CS224u/newfinal/indicators/Reversal\"\n",
    "\n",
    "cryptonie_test_path = \"/Users/dom/Desktop/CS224u/newfinal/cryptonite-official-split/cryptonite-test.jsonl\"\n",
    "cryptonitet_train_path = \"/Users/dom/Desktop/CS224u/newfinal/cryptonite-official-split/cryptonite-train.jsonl\"\n",
    "cryptonite_validation_path = \"/Users/dom/Desktop/CS224u/newfinal/cryptonite-official-split/cryptonite-val.jsonl\"\n",
    "rozner_acw_data_train_path=\"/Users/dom/Desktop/CS224u/cs224u_crossword/decrypt-main/data/clue_json/curricular/ACW_data/train.json\"\n",
    "rozner_wordinitdisjoint_train_path = \"/Users/dom/Desktop/CS224u/cs224u_crossword/decrypt-main/data/clue_json/guardian/word_init_disjoint/train.json\"\n",
    "rozner_guardian_path = \"/Users/dom/Desktop/CS224u/cs224u_crossword/decrypt-main/data/guardian_2020_10_08.json\"\n",
    "rozner_naiverand_path = \"/Users/dom/Desktop/CS224u/cs224u_crossword/decrypt-main/data/naive_random.json\""
   ]
  },
  {
   "cell_type": "code",
   "execution_count": 71,
   "metadata": {},
   "outputs": [
    {
     "name": "stdout",
     "output_type": "stream",
     "text": [
      "Processed:  29  data points\n",
      "Processed:  23  data points\n",
      "<class 'list'>\n",
      "Processed:  159  data points\n",
      "Processed:  1298  data points\n",
      "Processed:  81  data points\n",
      "Processed:  0  data points\n"
     ]
    }
   ],
   "source": [
    "aggData = []\n",
    "for curCryp in [cryptonie_test_path, cryptonite_validation_path]:\n",
    "    curData = processCryptonite(curCryp, \"\", outputting=False)\n",
    "    for datum in curData:\n",
    "        aggData.append(datum)\n",
    "for curRoz in [rozner_guardian_path]:\n",
    "    curData = processRozner(curRoz, \"\", outputting=False)\n",
    "    for datum in curData:\n",
    "        aggData.append(datum)\n",
    "for curRoz2 in [rozner_acw_data_train_path, rozner_wordinitdisjoint_train_path, rozner_naiverand_path]:\n",
    "    curData = processRozner3(curRoz2,\"\",outputting=False)\n",
    "    for datum in curData:\n",
    "        aggData.append(datum)"
   ]
  },
  {
   "cell_type": "code",
   "execution_count": 72,
   "metadata": {},
   "outputs": [],
   "source": [
    "outputData(aggData, \"revClues_aggregated_2\")"
   ]
  },
  {
   "cell_type": "markdown",
   "metadata": {},
   "source": [
    "# Aggregate all of the data into one megaset"
   ]
  },
  {
   "cell_type": "code",
   "execution_count": null,
   "metadata": {},
   "outputs": [
    {
     "name": "stdout",
     "output_type": "stream",
     "text": [
      "1402\n"
     ]
    }
   ],
   "source": [
    "subsets = [\n",
    "    \"/Users/dom/Desktop/CS224u/newfinal/revClues_rozner_wordinitdisjoint_train\",\n",
    "    \"/Users/dom/Desktop/CS224u/newfinal/revClues_roznerACW_train\",\n",
    "    \"/Users/dom/Desktop/CS224u/newfinal/revClues_val_noIndcs\",\n",
    "    \"/Users/dom/Desktop/CS224u/newfinal/revClues_rozner_guardian\",\n",
    "]\n",
    "\n",
    "aggregatedData = []\n",
    "for curFile in subsets:\n",
    "    loadEzData(curFile, providedContainer=aggregatedData)\n",
    "print(len(aggregatedData))\n"
   ]
  },
  {
   "cell_type": "code",
   "execution_count": 82,
   "metadata": {},
   "outputs": [
    {
     "name": "stdout",
     "output_type": "stream",
     "text": [
      "only a short reflection from jeremiah (4)\n"
     ]
    }
   ],
   "source": [
    "with open(\"/Users/dom/Desktop/CS224u/cs224u_crossword/revClues_aggregated_3\",'r') as oaky:\n",
    "    data = json.loads(oaky.read())\n",
    "    print(data[0][\"clue\"])"
   ]
  },
  {
   "cell_type": "code",
   "execution_count": 85,
   "metadata": {},
   "outputs": [],
   "source": [
    "def evalDataset(filepath):\n",
    "  with open(filepath, 'r') as fin:\n",
    "    evalData = json.loads(fin.read())\n",
    "\n",
    "  input_sequences = [] \n",
    "  output_sequences = []\n",
    "  i = 0\n",
    "  for entry in evalData:\n",
    "      input_sequences.append(entry['clue'])\n",
    "      output_sequences.append(entry['answer'])\n",
    "      i+=1\n",
    "  return input_sequences, output_sequences"
   ]
  },
  {
   "cell_type": "code",
   "execution_count": 86,
   "metadata": {},
   "outputs": [],
   "source": [
    "inps, outps = evalDataset(\"/Users/dom/Desktop/CS224u/cs224u_crossword/revClues_aggregated_3\")"
   ]
  }
 ],
 "metadata": {
  "interpreter": {
   "hash": "801dc401bfe477544045a8dc83d63efd6a32868ac2a652a4fbe6d30f82d2d95a"
  },
  "kernelspec": {
   "display_name": "Python 3.9.13 ('224ufinal')",
   "language": "python",
   "name": "python3"
  },
  "language_info": {
   "codemirror_mode": {
    "name": "ipython",
    "version": 3
   },
   "file_extension": ".py",
   "mimetype": "text/x-python",
   "name": "python",
   "nbconvert_exporter": "python",
   "pygments_lexer": "ipython3",
   "version": "3.9.13"
  },
  "orig_nbformat": 4
 },
 "nbformat": 4,
 "nbformat_minor": 2
}
