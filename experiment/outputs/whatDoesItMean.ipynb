{
 "cells": [
  {
   "cell_type": "code",
   "execution_count": 7,
   "metadata": {},
   "outputs": [],
   "source": [
    "import os\n",
    "import json\n",
    "import re"
   ]
  },
  {
   "cell_type": "markdown",
   "metadata": {},
   "source": [
    "# Put the filename of the output here"
   ]
  },
  {
   "cell_type": "code",
   "execution_count": 2,
   "metadata": {},
   "outputs": [],
   "source": [
    "fin_path = \"our-results-cng-65.json\""
   ]
  },
  {
   "cell_type": "code",
   "execution_count": 3,
   "metadata": {},
   "outputs": [
    {
     "name": "stdout",
     "output_type": "stream",
     "text": [
      "1580\n"
     ]
    }
   ],
   "source": [
    "allData = []\n",
    "if (not os.path.exists(fin_path)):\n",
    "    Exception(\"No file!\")\n",
    "else:\n",
    "    with open(fin_path) as fin:\n",
    "        allData = json.loads(fin.read())\n",
    "        fin.close()\n",
    "print(len(allData))\n"
   ]
  },
  {
   "cell_type": "code",
   "execution_count": 26,
   "metadata": {},
   "outputs": [],
   "source": [
    "def isRightLengths(curPair):\n",
    "    s = curPair[\"clue\"]\n",
    "    if (\"(\" not in s):\n",
    "        raise Exception(\"No parenthesis!\")\n",
    "    lengthsArr = s[s.rfind(\"(\")+1:s.rfind(\")\")].split(\",\")\n",
    "    ansArr = curPair[\"answer\"].split()\n",
    "    if (len(lengthsArr) != len(ansArr)):\n",
    "        return False\n",
    "    else:\n",
    "        for i in range(len(lengthsArr)):\n",
    "            if not (len(ansArr[i]) == int(lengthsArr[i])):\n",
    "                return False\n",
    "    return True"
   ]
  },
  {
   "cell_type": "code",
   "execution_count": 27,
   "metadata": {},
   "outputs": [
    {
     "name": "stdout",
     "output_type": "stream",
     "text": [
      "Total:  1421 \n",
      "Correct:  478 \n",
      "Accuracy:  0.33638282899366645\n"
     ]
    }
   ],
   "source": [
    "counter_rightLens = 0\n",
    "counter_hasLens = 0\n",
    "for datum in allData:\n",
    "    if (\"(\" in datum[\"clue\"]):\n",
    "        counter_hasLens += 1\n",
    "        if isRightLengths(datum):\n",
    "            counter_rightLens += 1\n",
    "print(\"Total: \", counter_hasLens, \"\\nCorrect: \", counter_rightLens, \"\\nAccuracy: \", counter_rightLens/counter_hasLens)"
   ]
  }
 ],
 "metadata": {
  "interpreter": {
   "hash": "801dc401bfe477544045a8dc83d63efd6a32868ac2a652a4fbe6d30f82d2d95a"
  },
  "kernelspec": {
   "display_name": "Python 3.9.13 ('224ufinal')",
   "language": "python",
   "name": "python3"
  },
  "language_info": {
   "codemirror_mode": {
    "name": "ipython",
    "version": 3
   },
   "file_extension": ".py",
   "mimetype": "text/x-python",
   "name": "python",
   "nbconvert_exporter": "python",
   "pygments_lexer": "ipython3",
   "version": "3.9.13"
  },
  "orig_nbformat": 4
 },
 "nbformat": 4,
 "nbformat_minor": 2
}
