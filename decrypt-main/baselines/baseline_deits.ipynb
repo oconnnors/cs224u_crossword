{
 "cells": [
  {
   "cell_type": "markdown",
   "metadata": {},
   "source": [
    "# how to run deits solver\n",
    "1. clone the deits repository (https://github.com/rdeits/cryptics) into './deits/; Note that the julia solver is better but for our research we used python version.\n",
    "2. checkout commit 402579 (in deits repo)\n",
    "3. apply patch 0001-Set-up... (in this directory)\n",
    "4. Use this notebook to set up the deits input clue file\n",
    "5. run validate_cryptics.py in the deits directory.\n",
    "    - this file will be created by patch application.\n",
    "    (see bottom of validate_cryptics.py for the command line arguments that should be included)\n",
    "    - you will need to specify an output file. Use the abs path of '../deits/clues/'\n",
    "    - you will need to specify input clue file. that should be the one generated in this nb ('../deits/clues/*')\n",
    "6. Use this notebook to run eval (this file)\n"
   ]
  },
  {
   "cell_type": "code",
   "execution_count": null,
   "metadata": {
    "pycharm": {
     "name": "#%%\n"
    }
   },
   "outputs": [],
   "source": [
    "%load_ext autoreload\n",
    "%autoreload 2"
   ]
  },
  {
   "cell_type": "code",
   "execution_count": null,
   "metadata": {
    "pycharm": {
     "name": "#%%\n"
    }
   },
   "outputs": [],
   "source": [
    "from decrypt import config\n",
    "k_json_folder = config.DataDirs.Guardian.json_folder\n",
    "k_deits_clue_folder = config.DataDirs.Deits.k_deits_clues\n",
    "k_deits_output_folder = config.DataDirs.Deits.k_deits_outputs"
   ]
  },
  {
   "cell_type": "code",
   "execution_count": null,
   "metadata": {
    "pycharm": {
     "name": "#%%\n"
    }
   },
   "outputs": [],
   "source": [
    "from decrypt.scrape_parse import (\n",
    "    load_guardian_splits,\n",
    "    load_guardian_splits_disjoint_hash\n",
    ")\n",
    "from decrypt.common.validation_tools import (\n",
    "    load_deits,\n",
    "    all_aggregate,\n",
    ")\n",
    "from decrypt.common.puzzle_clue import GuardianClue"
   ]
  },
  {
   "cell_type": "markdown",
   "metadata": {
    "pycharm": {
     "name": "#%% md\n"
    }
   },
   "source": [
    "Setting up the datasets"
   ]
  },
  {
   "cell_type": "code",
   "execution_count": null,
   "metadata": {
    "pycharm": {
     "name": "#%%\n"
    }
   },
   "outputs": [],
   "source": [
    "## produce deits\n",
    "\n",
    "# produce test set for cdeits\n",
    "def make_deits_format(gc: GuardianClue):\n",
    "    len_str = \"(\" + \",\".join(map(str, gc.lengths)) + \")\"\n",
    "    clue_str = gc.clue + \" \" + len_str\n",
    "    final = clue_str + \" | \" + gc.soln_with_spaces\n",
    "    return final\n",
    "\n",
    "def make_deits(fname, clueset):\n",
    "    with open(fname, \"w\") as f:\n",
    "        for c in clueset:\n",
    "            f.write(make_deits_format(c) + \"\\n\")\n",
    "\n",
    "\n",
    "def prep_deits(val_or_test: str,\n",
    "               naive_or_disj: str):\n",
    "    assert val_or_test in [\"val\", \"test\"]\n",
    "    assert naive_or_disj in [\"naive\", \"disj\"]\n",
    "    if naive_or_disj == \"naive\":\n",
    "        load_fn = load_guardian_splits\n",
    "    else:\n",
    "        load_fn = load_guardian_splits_disjoint_hash\n",
    "\n",
    "    _, _, (train_local, val, test) = load_fn(k_json_folder)\n",
    "    if val_or_test == \"val\":\n",
    "        val_local = val\n",
    "    else:\n",
    "        val_local = test\n",
    "\n",
    "    append_name = f'guardian_{naive_or_disj}_{val_or_test}'\n",
    "    fname = f'{k_deits_clue_folder}{append_name}.txt'\n",
    "    output_folder = f'{k_deits_output_folder}{append_name}/'        # outputs will be like output/{append_name}/*-1.json\n",
    "    return val_local, fname, output_folder\n",
    "\n",
    "def make_deits_clues(val_or_test,\n",
    "                     naive_or_disj):\n",
    "    val_local, fname, _ = prep_deits(val_or_test, naive_or_disj)\n",
    "    make_deits(fname, val_local)"
   ]
  },
  {
   "cell_type": "markdown",
   "metadata": {
    "pycharm": {
     "name": "#%% md\n"
    }
   },
   "source": [
    "This will produce a clue file in `k_deits_clue_folder`\n",
    "For example, for disjoint val set:\n",
    "make_deits_clues('val', 'disj')     # produces a clue file in k_deits_clue_folder\n",
    "\n",
    "To fully replicate results, also run\n",
    "- `make_deits_clues('test', 'disj')\n",
    "- `make_deits_clues('val', 'naive')\n",
    "- `make_deits_clues('test', 'naive')"
   ]
  },
  {
   "cell_type": "markdown",
   "metadata": {
    "pycharm": {
     "name": "#%% md\n"
    }
   },
   "source": [
    "Now we run `deits/validate_cryptics.py` to generate outputs from the model.\n",
    "For example,\n",
    "`python validate_cryptics.py <output_file> <timeout_len_in_seconds> <starting idx> <end idx> <input_file> <output_directory>`\n",
    "\n",
    "To run all clues, e.g.,\n",
    "- determine the last index of the clues in the set on which you are evaluating. If it is 28442 then\n",
    "`python validate_cryptics.py out.json  120 0 28443  k_deits_clue_folder/guardian_naive_val.txt outputs/naive_val/`\n",
    "\n",
    "To actually replicate this, it is best to split up the runs into sets of, e.g., 100 clues and parallelize.\n",
    "\n",
    "It is recommended to use the Julia rather than the Deits solver since this one is incredibly slow.\n",
    "\n",
    "Finally, we run the evaluation code:\n",
    "Below we provide code to run the two models to produce row 1 of Main Results\n",
    "Table 2 in the paper.\n",
    "\n",
    "Note that for the Main Results Table 2, the metrics we include in the table correspond to\n",
    "- `agg_top_match`\n",
    "- `agg_top_10_after_filter`\n",
    "\n",
    "More details of these metric calculations can be found in `decrypt.common.validation_tools`"
   ]
  },
  {
   "cell_type": "code",
   "execution_count": null,
   "metadata": {
    "pycharm": {
     "name": "#%%\n"
    }
   },
   "outputs": [],
   "source": [
    "def eval_deits_clues(val_or_test,\n",
    "                     naive_or_disj):\n",
    "    val_local, fname, output_folder = prep_deits(val_or_test, naive_or_disj)\n",
    "    deits_outputs_glob = output_folder + \"*-1.json\"\n",
    "    model_outputs = load_deits(val_local, deits_outputs_glob)\n",
    "    all_aggregate(model_outputs)\n"
   ]
  },
  {
   "cell_type": "code",
   "execution_count": null,
   "metadata": {
    "pycharm": {
     "name": "#%%\n"
    }
   },
   "outputs": [],
   "source": [
    "# for example\n",
    "eval_deits_clues('val', 'disj')     # will evaluate the outputs\n",
    "\n"
   ]
  }
 ],
 "metadata": {
  "kernelspec": {
   "display_name": "Python 3",
   "language": "python",
   "name": "python3"
  },
  "language_info": {
   "codemirror_mode": {
    "name": "ipython",
    "version": 2
   },
   "file_extension": ".py",
   "mimetype": "text/x-python",
   "name": "python",
   "nbconvert_exporter": "python",
   "pygments_lexer": "ipython2",
   "version": "2.7.6"
  }
 },
 "nbformat": 4,
 "nbformat_minor": 0
}
