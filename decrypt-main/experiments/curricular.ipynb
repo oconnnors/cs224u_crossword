{
 "cells": [
  {
   "cell_type": "markdown",
   "metadata": {
    "pycharm": {
     "name": "#%% md\n"
    }
   },
   "source": [
    "## Setting up for curricular experiment\n",
    "\n",
    "This assumes you have already followed the instructions in `baselines/baseline_t5`, which will set up the baseline clue files for model input\n",
    "\n",
    "### Datasets\n",
    "1. Download and unzip the xd cw crossword set from http://xd.saul.pw/xd-clues.zip.\n",
    "    - Save it as './data/original/xd/clues.tsv'\n",
    "2. Preprocess the dataset using this notebook\n",
    "3. The dataset will be saved to k_acw_export_dir (as a single train.json file)\n",
    "4. We will also produce the anagram dataset\n"
   ]
  },
  {
   "cell_type": "code",
   "execution_count": 10,
   "metadata": {},
   "outputs": [
    {
     "name": "stdout",
     "output_type": "stream",
     "text": [
      "/Users/dom/Desktop/CS224u/cs224u_crossword/decrypt-main\n"
     ]
    }
   ],
   "source": [
    "%cd /Users/dom/Desktop/CS224u/cs224u_crossword/decrypt-main/"
   ]
  },
  {
   "cell_type": "code",
   "execution_count": 11,
   "metadata": {
    "pycharm": {
     "name": "#%%\n"
    }
   },
   "outputs": [
    {
     "name": "stdout",
     "output_type": "stream",
     "text": [
      "The autoreload extension is already loaded. To reload it, use:\n",
      "  %reload_ext autoreload\n"
     ]
    },
    {
     "name": "stderr",
     "output_type": "stream",
     "text": [
      "WARNING:root:No gsheets writer is configured\n"
     ]
    }
   ],
   "source": [
    "%load_ext autoreload\n",
    "%autoreload 2\n",
    "\n",
    "from decrypt.scrape_parse.acw_load import get_clean_xd_clues\n",
    "from decrypt import config\n",
    "from decrypt.common.util_data import clue_list_tuple_to_train_split_json\n",
    "from decrypt.common import validation_tools as vt\n",
    "\n",
    "k_xd_orig_tsv = config.DataDirs.OriginalData.k_xd_cw        # ./data/original/xd/clues.tsv\n",
    "k_acw_export_dir = config.DataDirs.DataExport.xd_cw_json"
   ]
  },
  {
   "cell_type": "code",
   "execution_count": 13,
   "metadata": {
    "pycharm": {
     "name": "#%%\n"
    }
   },
   "outputs": [
    {
     "name": "stderr",
     "output_type": "stream",
     "text": [
      "INFO:root:loading xd (ACW) set from /Users/dom/Desktop/CS224u/cs224u_crossword/decrypt-main/data/original/xd/clues.tsv\n",
      "6572827it [00:36, 181559.22it/s]\n",
      "INFO:root:Counter({'removed_trailing_period': 639298, 'fillin': 395885, 'question word': 177601, 'removed_likely_abbrev': 166457, 'empty': 78866, 'ref': 47562})\n",
      "INFO:root:Filtered to 5706456 clues\n"
     ]
    },
    {
     "name": "stdout",
     "output_type": "stream",
     "text": [
      "Counter({'removed_trailing_period': 639298, 'fillin': 395885, 'question word': 177601, 'removed_likely_abbrev': 166457, 'empty': 78866, 'ref': 47562})\n"
     ]
    },
    {
     "name": "stderr",
     "output_type": "stream",
     "text": [
      "100%|██████████| 5706456/5706456 [00:03<00:00, 1584242.13it/s]\n",
      "100%|██████████| 257081/257081 [00:45<00:00, 5620.74it/s] \n"
     ]
    },
    {
     "name": "stdout",
     "output_type": "stream",
     "text": [
      "removed 3151030 exact dupes\n",
      "2555426\n"
     ]
    },
    {
     "name": "stderr",
     "output_type": "stream",
     "text": [
      "INFO:root:Counter({1: 2555426})\n",
      "100%|██████████| 2555426/2555426 [00:06<00:00, 399067.20it/s]\n",
      "INFO:decrypt.common.util_data:Source target mapping:\n",
      "\tLitigator's group (3) => aba\n",
      "\n",
      "INFO:decrypt.common.util_data:Finished writing all files\n"
     ]
    },
    {
     "name": "stdout",
     "output_type": "stream",
     "text": [
      "{'idx': 0, 'input': \"Litigator's group (3)\", 'target': 'aba'}\n",
      "{'idx': 1, 'input': 'Arab garment (3)', 'target': 'aba'}\n",
      "{'idx': 2, 'input': 'Arabian garment (3)', 'target': 'aba'}\n",
      "\n"
     ]
    }
   ],
   "source": [
    "# defaults to strip periods, remove questions, remove abbrevs, remove fillin\n",
    "stc_map, all_clues = get_clean_xd_clues(k_xd_orig_tsv,\n",
    "                                        remove_if_not_in_dict=False,\n",
    "                                        do_filter_dupes=True)\n",
    "clue_list_tuple_to_train_split_json((all_clues,),\n",
    "                                    comment='ACW set; xd cw set, all',\n",
    "                                    export_dir=k_acw_export_dir,\n",
    "                                    overwrite=False)"
   ]
  },
  {
   "cell_type": "code",
   "execution_count": 14,
   "metadata": {
    "pycharm": {
     "name": "#%%\n"
    }
   },
   "outputs": [
    {
     "name": "stderr",
     "output_type": "stream",
     "text": [
      "INFO:root:Overwriting database at /Users/dom/Desktop/CS224u/cs224u_crossword/decrypt-main/data/generated/anag_db\n",
      "INFO:root:Adding to db /Users/dom/Desktop/CS224u/cs224u_crossword/decrypt-main/data/generated/anag_db with updateflag overwrite\n",
      "118619it [00:03, 29801.92it/s]\n"
     ]
    },
    {
     "name": "stdout",
     "output_type": "stream",
     "text": [
      "Counter({1: 118609})\n",
      "Done.\n"
     ]
    }
   ],
   "source": [
    "# produce anagram datasets\n",
    "# roughly 3 minutes to complete\n",
    "from decrypt.common import anagrammer\n",
    "anagrammer.gen_db_with_both_inputs(update_flag=\"overwrite\")\n",
    "\n",
    "from decrypt.common.util_data import (\n",
    "    get_anags,\n",
    "    write_json_tuple\n",
    ")\n",
    "import json\n",
    "import os"
   ]
  },
  {
   "cell_type": "code",
   "execution_count": 15,
   "metadata": {
    "pycharm": {
     "name": "#%%\n"
    }
   },
   "outputs": [],
   "source": [
    "def make_anag_sets_json():\n",
    "    all_anags = get_anags(max_num_words=-1)\n",
    "    json_list = []\n",
    "    for idx, a_list in enumerate(all_anags):\n",
    "        json_list.append(dict(idx=idx,\n",
    "                              anag_list=a_list))\n",
    "    print(json_list[0])\n",
    "\n",
    "    # normally would be (idx, input, tgt)\n",
    "    output_tuple = [json_list,]\n",
    "\n",
    "    os.makedirs(config.DataDirs.DataExport.anag_dir)\n",
    "    write_json_tuple(output_tuple,\n",
    "                     comment=\"List of all anagram groupings\",\n",
    "                     export_dir=config.DataDirs.DataExport.anag_dir,\n",
    "                     overwrite=False)\n",
    "\n",
    "def make_anag_indic_list_json():\n",
    "    # make the indicator list\n",
    "    with open(config.DataDirs.OriginalData.k_deits_anagram_list, 'r') as f:\n",
    "        all_anag_indicators = f.readlines()\n",
    "        print(len(all_anag_indicators))\n",
    "\n",
    "    final_indic_list = []\n",
    "    for a in all_anag_indicators:\n",
    "        final_indic_list.append(a.replace('_', \" \").strip())\n",
    "    with open(config.DataDirs.DataExport.anag_indics, 'w') as f:\n",
    "        json.dump(final_indic_list,f)"
   ]
  },
  {
   "cell_type": "code",
   "execution_count": 16,
   "metadata": {
    "pycharm": {
     "name": "#%%\n"
    }
   },
   "outputs": [
    {
     "name": "stderr",
     "output_type": "stream",
     "text": [
      "INFO:root:Initializing (non-singleton) Anagrammer from /Users/dom/Desktop/CS224u/cs224u_crossword/decrypt-main/data/generated/anag_db\n",
      "INFO:root:DONE: Initialized Anagrammer from /Users/dom/Desktop/CS224u/cs224u_crossword/decrypt-main/data/generated/anag_db\n",
      "100%|██████████| 110341/110341 [00:01<00:00, 75258.13it/s]\n",
      "INFO:root:Total anagramable: 6543\n",
      "INFO:decrypt.common.util_data:Finished writing all files\n"
     ]
    },
    {
     "name": "stdout",
     "output_type": "stream",
     "text": [
      "6543\n",
      "6543\n",
      "14811\n",
      "['taint', 'titan']\n",
      "{'idx': 0, 'anag_list': ['taint', 'titan']}\n",
      "{'anag_list': ['taint', 'titan'], 'idx': 0}\n",
      "{'anag_list': ['counter', 'recount', 'trounce'], 'idx': 1}\n",
      "{'anag_list': ['disburden', 'underbids'], 'idx': 2}\n",
      "\n"
     ]
    }
   ],
   "source": [
    "make_anag_sets_json()"
   ]
  },
  {
   "cell_type": "code",
   "execution_count": 17,
   "metadata": {
    "pycharm": {
     "name": "#%%\n"
    }
   },
   "outputs": [
    {
     "name": "stdout",
     "output_type": "stream",
     "text": [
      "1160\n"
     ]
    }
   ],
   "source": [
    "make_anag_indic_list_json()\n",
    "\n"
   ]
  },
  {
   "cell_type": "markdown",
   "metadata": {
    "pycharm": {
     "name": "#%% md\n"
    }
   },
   "source": [
    "## Curricular training\n",
    "1. At this point you should have a files at\n",
    " - `./data/clue_json/curricular/ACW/train.json`\n",
    " - `./data/clue_json/curricular/anagram/[train.json, anag_indics.json]`\n",
    "\n",
    "2. Running curricular training is the same as running main t5 vanilla train, except that we pass an extra multitask flag, which specifies the curriculum to use. See `seq2seq/multitask_config`. You should pass one of the names from  `multi_config` dict in that file\n",
    "\n",
    "For example, to train the naive split with the top performing curricular approach (i.e. the result in table 3 that is ACW + ACW-descramble)\n",
    "```python\n",
    "python train_clues.py --default_train=base --name=naive_top_curricular --project=curricular --wandb_dir='./wandb' --data_dir='../data/clue_json/guardian/naive_random' --multitask=ACW__ACW_descramble\n",
    "```\n",
    "\n",
    "Note that the modifications on the dataset are done at the\n",
    "\n",
    "3. To produce Table 3 of the results\n",
    "    -  we don't need to do a model_eval run since the outputted predictions have 5 generations\n",
    "       (which is all we report for that table (for faster experimental iteration).\n",
    "    - we need to run `load_and_run_t5` on all outputs (column 1) and on the anagram subset (column 2)\n",
    "      See below for how we do this.\n",
    "\n",
    "4. For our top result in Table 2 (main resuls) we\n",
    "    1. scale up the curricular period (to 4 total epochs)\n",
    "```python\n",
    "python train_clues.py --default_train=base --name=naive_top_curricular --project=curricular --wandb_dir='./wandb' --data_dir='../data/clue_json/guardian/naive_random' --multitask=final_top_result_scaled_up\n",
    "```\n",
    "    2. eval with full 100 generations, as before:\n",
    "e.g., if epoch 10 is best (you'll need to set the run_name)\n",
    "This runs the eval set (change the run_name)\n",
    "```python\n",
    "python train_clues.py --default_val=base --name=curricular_naive_top --project=curricular --data_dir='../data/clue_json/guardian/naive_random' --ckpt_path='./wandb/run_name/files/epoch_10.pth.tar\n",
    "```\n"
   ]
  },
  {
   "cell_type": "code",
   "execution_count": 19,
   "metadata": {
    "pycharm": {
     "name": "#%%\n"
    }
   },
   "outputs": [
    {
     "name": "stderr",
     "output_type": "stream",
     "text": [
      "INFO:decrypt.scrape_parse.guardian_load:Loading splits directly from given json files. Using /Users/dom/Desktop/CS224u/cs224u_crossword/decrypt-main/data/naive_random.json\n",
      "100%|██████████| 142380/142380 [00:00<00:00, 932101.02it/s]\n",
      "INFO:decrypt.scrape_parse.guardian_load:Counter({1: 118540, 2: 20105, 3: 2929, 4: 686, 5: 112, 6: 8})\n",
      "INFO:decrypt.scrape_parse.guardian_load:Clue list length matches Decrypting paper expected length\n",
      "INFO:decrypt.scrape_parse.guardian_load:Got splits of lenghts [85428, 28476, 28476]\n",
      "INFO:decrypt.scrape_parse.guardian_load:First three clues of train set:\n",
      "\t[CleanGuardianClue(clue='Suffering to grasp edge of plant', lengths=[8], soln='agrimony', soln_with_spaces='agrimony', idx=-1, dataset='', across_or_down='', pos=(0, 0), unique_clue_id='', type='cryptic', number=0, id='', creator='Chifonie', orig_lengths='8', lengths_punctuation=set()), CleanGuardianClue(clue='Honour Ben and Noel with new order', lengths=[7], soln='ennoble', soln_with_spaces='ennoble', idx=-1, dataset='', across_or_down='', pos=(0, 0), unique_clue_id='', type='cryptic', number=0, id='', creator='Rufus', orig_lengths='7', lengths_punctuation=set()), CleanGuardianClue(clue='Bit the royal we love? Cheers!', lengths=[4], soln='iota', soln_with_spaces='iota', idx=-1, dataset='', across_or_down='', pos=(0, 0), unique_clue_id='', type='cryptic', number=0, id='', creator='Screw', orig_lengths='4', lengths_punctuation=set())]\n",
      "  0%|          | 6/142380 [00:00<00:09, 15467.62it/s]\n"
     ]
    },
    {
     "ename": "AssertionError",
     "evalue": "",
     "output_type": "error",
     "traceback": [
      "\u001b[0;31m---------------------------------------------------------------------------\u001b[0m",
      "\u001b[0;31mAssertionError\u001b[0m                            Traceback (most recent call last)",
      "\u001b[1;32m/Users/dom/Desktop/CS224u/cs224u_crossword/decrypt-main/experiments/curricular.ipynb Cell 10'\u001b[0m in \u001b[0;36m<cell line: 3>\u001b[0;34m()\u001b[0m\n\u001b[1;32m      <a href='vscode-notebook-cell:/Users/dom/Desktop/CS224u/cs224u_crossword/decrypt-main/experiments/curricular.ipynb#ch0000008?line=0'>1</a>\u001b[0m \u001b[39mfrom\u001b[39;00m \u001b[39mdecrypt\u001b[39;00m\u001b[39m.\u001b[39;00m\u001b[39mcommon\u001b[39;00m\u001b[39m.\u001b[39;00m\u001b[39mlabel_anagrams\u001b[39;00m \u001b[39mimport\u001b[39;00m make_label_set\n\u001b[0;32m----> <a href='vscode-notebook-cell:/Users/dom/Desktop/CS224u/cs224u_crossword/decrypt-main/experiments/curricular.ipynb#ch0000008?line=2'>3</a>\u001b[0m labels \u001b[39m=\u001b[39m make_label_set()\n",
      "File \u001b[0;32m~/Desktop/CS224u/cs224u_crossword/decrypt-main/decrypt/common/label_anagrams.py:60\u001b[0m, in \u001b[0;36mmake_label_set\u001b[0;34m()\u001b[0m\n\u001b[1;32m     <a href='file:///Users/dom/Desktop/CS224u/cs224u_crossword/decrypt-main/decrypt/common/label_anagrams.py?line=57'>58</a>\u001b[0m         \u001b[39m# direct anagram if occurs directly in clue once spaces and punct removed\u001b[39;00m\n\u001b[1;32m     <a href='file:///Users/dom/Desktop/CS224u/cs224u_crossword/decrypt-main/decrypt/common/label_anagrams.py?line=58'>59</a>\u001b[0m         \u001b[39mif\u001b[39;00m \u001b[39msorted\u001b[39m(sub_part) \u001b[39m==\u001b[39m s:\n\u001b[0;32m---> <a href='file:///Users/dom/Desktop/CS224u/cs224u_crossword/decrypt-main/decrypt/common/label_anagrams.py?line=59'>60</a>\u001b[0m             add_to_labels(\u001b[39m'\u001b[39;49m\u001b[39manag_direct\u001b[39;49m\u001b[39m'\u001b[39;49m, sc\u001b[39m.\u001b[39;49midx)\n\u001b[1;32m     <a href='file:///Users/dom/Desktop/CS224u/cs224u_crossword/decrypt-main/decrypt/common/label_anagrams.py?line=60'>61</a>\u001b[0m             \u001b[39mbreak\u001b[39;00m\n\u001b[1;32m     <a href='file:///Users/dom/Desktop/CS224u/cs224u_crossword/decrypt-main/decrypt/common/label_anagrams.py?line=62'>63</a>\u001b[0m \u001b[39mreturn\u001b[39;00m labels\n",
      "File \u001b[0;32m~/Desktop/CS224u/cs224u_crossword/decrypt-main/decrypt/common/label_anagrams.py:17\u001b[0m, in \u001b[0;36mmake_label_set.<locals>.add_to_labels\u001b[0;34m(name, idx, verify)\u001b[0m\n\u001b[1;32m     <a href='file:///Users/dom/Desktop/CS224u/cs224u_crossword/decrypt-main/decrypt/common/label_anagrams.py?line=14'>15</a>\u001b[0m \u001b[39mdef\u001b[39;00m \u001b[39madd_to_labels\u001b[39m(name, idx, verify\u001b[39m=\u001b[39m\u001b[39mTrue\u001b[39;00m):\n\u001b[1;32m     <a href='file:///Users/dom/Desktop/CS224u/cs224u_crossword/decrypt-main/decrypt/common/label_anagrams.py?line=15'>16</a>\u001b[0m     \u001b[39mif\u001b[39;00m verify:\n\u001b[0;32m---> <a href='file:///Users/dom/Desktop/CS224u/cs224u_crossword/decrypt-main/decrypt/common/label_anagrams.py?line=16'>17</a>\u001b[0m         \u001b[39massert\u001b[39;00m idx \u001b[39mnot\u001b[39;00m \u001b[39min\u001b[39;00m any_label\n\u001b[1;32m     <a href='file:///Users/dom/Desktop/CS224u/cs224u_crossword/decrypt-main/decrypt/common/label_anagrams.py?line=17'>18</a>\u001b[0m     any_label\u001b[39m.\u001b[39madd(idx)\n\u001b[1;32m     <a href='file:///Users/dom/Desktop/CS224u/cs224u_crossword/decrypt-main/decrypt/common/label_anagrams.py?line=18'>19</a>\u001b[0m     labels[name]\u001b[39m.\u001b[39madd(idx)\n",
      "\u001b[0;31mAssertionError\u001b[0m: "
     ]
    }
   ],
   "source": [
    "from decrypt.common.label_anagrams import make_label_set\n",
    "\n",
    "labels = make_label_set()"
   ]
  },
  {
   "cell_type": "code",
   "execution_count": null,
   "metadata": {
    "pycharm": {
     "name": "#%%\n"
    }
   },
   "outputs": [],
   "source": [
    "# note that this should be run directly on the top model output from curricular training\n",
    "# otherwise (eg. if 100 beams were used), the top 5 output\n",
    "# sequences would be expected to change\n",
    "# remember not to append .json\n",
    "\n",
    "# eval on the full output (5 beams / 5 sequences)\n",
    "# this is column 1 of table 3\n",
    "vt.load_and_run_t5('outputs/model_output.preds',\n",
    "                   # pre_truncate=5,        # should not be needed since we have only 5 outputs\n",
    "                   do_length_filter=True)\n",
    "\n",
    "# run on the anagram subset\n",
    "# this is column 2 of table 3\n",
    "vt.load_and_run_t5('outputs/model_output.preds',\n",
    "                   filter_fcn=vt.make_set_filter(labels, 'anag_direct'),\n",
    "                   # pre_truncate=5,\n",
    "                   do_length_filter=True)\n",
    "\n",
    "# we are looking at agg_top_match (which is after filter)"
   ]
  }
 ],
 "metadata": {
  "interpreter": {
   "hash": "801dc401bfe477544045a8dc83d63efd6a32868ac2a652a4fbe6d30f82d2d95a"
  },
  "kernelspec": {
   "display_name": "Python 3.9.13 ('224ufinal')",
   "language": "python",
   "name": "python3"
  },
  "language_info": {
   "codemirror_mode": {
    "name": "ipython",
    "version": 3
   },
   "file_extension": ".py",
   "mimetype": "text/x-python",
   "name": "python",
   "nbconvert_exporter": "python",
   "pygments_lexer": "ipython3",
   "version": "3.9.13"
  }
 },
 "nbformat": 4,
 "nbformat_minor": 0
}
